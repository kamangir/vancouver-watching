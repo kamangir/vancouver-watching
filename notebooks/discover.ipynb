{
    "cells": [
        {
            "attachments": {},
            "cell_type": "markdown",
            "metadata": {},
            "source": [
                "# 🌀 target discovery"
            ]
        },
        {
            "cell_type": "code",
            "execution_count": null,
            "metadata": {},
            "outputs": [
                {
                    "name": "stderr",
                    "output_type": "stream",
                    "text": [
                        "🌈  vancouver_watching-3.450.1.blue_options-4.174.1, built on 05 January 2025, 16:16:36\n"
                    ]
                }
            ],
            "source": [
                "import sys\n",
                "sys.path.append(\"..\")\n",
                "\n",
                "from bluer_sandbox import notebooks\n",
                "\n",
                "from bs4 import BeautifulSoup\n",
                "import requests\n",
                "\n",
                "from bluer_options import string\n",
                "\n",
                "from bluer_sandbox.host import signature\n",
                "from vancouver_watching.logger import logger\n",
                "\n",
                "logger.info(f\"{'.'.join(signature())},\\nbuilt on {string.pretty_date()}\")"
            ]
        },
        {
            "attachments": {},
            "cell_type": "markdown",
            "metadata": {},
            "source": [
                "---"
            ]
        },
        {
            "cell_type": "code",
            "execution_count": 10,
            "metadata": {},
            "outputs": [
                {
                    "name": "stdout",
                    "output_type": "stream",
                    "text": [
                        "['cameraimages/Oak10North.jpg', 'cameraimages/Oak10East.jpg', 'cameraimages/Oak10South.jpg', 'cameraimages/Oak10West.jpg']\n"
                    ]
                }
            ],
            "source": [
                "url = \"https://trafficcams.vancouver.ca/oakW10.htm\"\n",
                "\n",
                "html_page = requests.get(url)\n",
                "\n",
                "# https://towardsdatascience.com/a-tutorial-on-scraping-images-from-the-web-using-beautifulsoup-206a7633e948\n",
                "soup = BeautifulSoup(html_page.content, \"html.parser\")\n",
                "\n",
                "print([thing for thing in [\n",
                "    img['src'] for img in soup.find_all('img')]\n",
                "    if thing.startswith(\"cameraimages\")])"
            ]
        },
        {
            "attachments": {},
            "cell_type": "markdown",
            "metadata": {},
            "source": [
                "---"
            ]
        },
        {
            "cell_type": "code",
            "execution_count": 2,
            "metadata": {},
            "outputs": [],
            "source": [
                "# END"
            ]
        }
    ],
    "metadata": {
        "kernelspec": {
            "display_name": ".venv",
            "language": "python",
            "name": "python3"
        },
        "language_info": {
            "codemirror_mode": {
                "name": "ipython",
                "version": 3
            },
            "file_extension": ".py",
            "mimetype": "text/x-python",
            "name": "python",
            "nbconvert_exporter": "python",
            "pygments_lexer": "ipython3",
            "version": "3.9.6"
        },
        "toc": {
            "base_numbering": 1,
            "nav_menu": {},
            "number_sections": true,
            "sideBar": true,
            "skip_h1_title": false,
            "title_cell": "Table of Contents",
            "title_sidebar": "Contents",
            "toc_cell": false,
            "toc_position": {},
            "toc_section_display": true,
            "toc_window_display": false
        }
    },
    "nbformat": 4,
    "nbformat_minor": 2
}
